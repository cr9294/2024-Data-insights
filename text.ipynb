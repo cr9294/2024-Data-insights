{
 "cells": [
  {
   "cell_type": "code",
   "outputs": [
    {
     "name": "stdout",
     "output_type": "stream",
     "text": [
      "True\n"
     ]
    }
   ],
   "source": [
    "#测试torch是否能调用GPU\n",
    "import torch\n",
    "print(torch.cuda.is_available())\n"
   ],
   "metadata": {
    "collapsed": false,
    "ExecuteTime": {
     "end_time": "2024-01-31T13:49:54.506160300Z",
     "start_time": "2024-01-31T13:49:52.669754500Z"
    }
   },
   "id": "5bba90ff6bd81b22",
   "execution_count": 1
  },
  {
   "cell_type": "code",
   "outputs": [
    {
     "name": "stdout",
     "output_type": "stream",
     "text": [
      "0.16.2+cu121\n"
     ]
    }
   ],
   "source": [
    "#测试torchvision是否能调用GPU\n",
    "import torchvision\n",
    "print(torchvision.__version__)\n"
   ],
   "metadata": {
    "collapsed": false,
    "ExecuteTime": {
     "end_time": "2024-01-31T13:49:55.319028900Z",
     "start_time": "2024-01-31T13:49:54.502645Z"
    }
   },
   "id": "fceb5c3f8ee60e76",
   "execution_count": 2
  },
  {
   "cell_type": "code",
   "outputs": [],
   "source": [],
   "metadata": {
    "collapsed": false,
    "ExecuteTime": {
     "start_time": "2024-01-31T13:49:55.416990600Z"
    }
   },
   "id": "9aca2f4c84c17df0"
  }
 ],
 "metadata": {
  "kernelspec": {
   "name": "d2l",
   "language": "python",
   "display_name": "d2l"
  },
  "language_info": {
   "codemirror_mode": {
    "name": "ipython",
    "version": 2
   },
   "file_extension": ".py",
   "mimetype": "text/x-python",
   "name": "python",
   "nbconvert_exporter": "python",
   "pygments_lexer": "ipython2",
   "version": "2.7.6"
  }
 },
 "nbformat": 4,
 "nbformat_minor": 5
}
