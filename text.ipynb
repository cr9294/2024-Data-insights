{
 "cells": [
  {
   "cell_type": "code",
   "outputs": [
    {
     "name": "stdout",
     "output_type": "stream",
     "text": [
      "True\n"
     ]
    }
   ],
   "source": [
    "#测试torch是否能调用GPU\n",
    "import torch\n",
    "print(torch.cuda.is_available())\n"
   ],
   "metadata": {
    "collapsed": false,
    "ExecuteTime": {
     "end_time": "2024-02-01T08:56:19.994244400Z",
     "start_time": "2024-02-01T08:56:17.826612700Z"
    }
   },
   "id": "5bba90ff6bd81b22",
   "execution_count": 1
  },
  {
   "cell_type": "code",
   "outputs": [
    {
     "name": "stdout",
     "output_type": "stream",
     "text": [
      "0.16.2+cu121\n"
     ]
    }
   ],
   "source": [
    "#测试torchvision是否能调用GPU\n",
    "import torchvision\n",
    "print(torchvision.__version__)\n"
   ],
   "metadata": {
    "collapsed": false,
    "ExecuteTime": {
     "end_time": "2024-02-01T08:56:20.925083500Z",
     "start_time": "2024-02-01T08:56:19.991244600Z"
    }
   },
   "id": "fceb5c3f8ee60e76",
   "execution_count": 2
  },
  {
   "cell_type": "code",
   "outputs": [],
   "source": [],
   "metadata": {
    "collapsed": false,
    "ExecuteTime": {
     "end_time": "2024-02-01T08:56:20.927092400Z",
     "start_time": "2024-02-01T08:56:20.925083500Z"
    }
   },
   "id": "9aca2f4c84c17df0",
   "execution_count": 2
  }
 ],
 "metadata": {
  "kernelspec": {
   "name": "d2l",
   "language": "python",
   "display_name": "d2l"
  },
  "language_info": {
   "codemirror_mode": {
    "name": "ipython",
    "version": 2
   },
   "file_extension": ".py",
   "mimetype": "text/x-python",
   "name": "python",
   "nbconvert_exporter": "python",
   "pygments_lexer": "ipython2",
   "version": "2.7.6"
  }
 },
 "nbformat": 4,
 "nbformat_minor": 5
}
