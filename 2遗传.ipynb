{
 "cells": [
  {
   "cell_type": "code",
   "execution_count": null,
   "id": "initial_id",
   "metadata": {
    "collapsed": true
   },
   "outputs": [],
   "source": [
    "import numpy as np\n",
    "\n",
    "def objective_function(t, r, N, K, t_0):\n",
    "    \"\"\"\n",
    "    定义目标函数，评估七鳃鳗种群优势和劣势的指标。\n",
    "    参数:\n",
    "    - t: 时间\n",
    "    - r: 参数\n",
    "    - N: 种群数量\n",
    "    - K: 种群容量\n",
    "    - t_0: 时间常数\n",
    "    返回:\n",
    "    - 目标函数值\n",
    "    \"\"\"\n",
    "    term1 = r * t * N * (t - (N / K) * t)\n",
    "    term2 = 1 / (1 + np.exp(-r * (t - t_0)))\n",
    "    return term1 + term2\n"
   ]
  },
  {
   "cell_type": "code",
   "outputs": [],
   "source": [
    "def linear_normalize(Y, min_val, max_val):\n",
    "    \"\"\"\n",
    "    线性归一化处理功能。\n",
    "\n",
    "    参数:\n",
    "    - Y: 原始函数值\n",
    "    - min_val: 目标函数值的最小值\n",
    "    - max_val: 目标函数值的最大值\n",
    "\n",
    "    返回:\n",
    "    - 归一化后的值\n",
    "    \"\"\"\n",
    "    return (Y - min_val) / (max_val - min_val)\n",
    "# 示例使用\n",
    "# min_val 和 max_val 是你的目标函数在实际问题中的最小值和最大值\n",
    "min_val = 0  # 替换为实际问题中的最小值\n",
    "max_val = 100  # 替换为实际问题中的最大值\n",
    "# 示例目标函数值\n",
    "Y_t = 75  # 替换为实际问题中的目标函数值\n",
    "# 使用线性归一化函数\n",
    "normalized_value = linear_normalize(Y_t, min_val, max_val)\n",
    "print(f\"归一化后的值: {normalized_value}\")\n"
   ],
   "metadata": {
    "collapsed": false
   },
   "id": "3988028586d1a65"
  },
  {
   "cell_type": "code",
   "outputs": [],
   "source": [
    "import numpy as np\n",
    "\n",
    "def linear_ranking_selection(population, fitness_scores, P_max=0.5, P_min=None):\n",
    "    \"\"\"\n",
    "    遗传算法1：线性排序选择\n",
    "\n",
    "    参数:\n",
    "    - population: 种群\n",
    "    - fitness_scores: 适应度分数\n",
    "    - P_max: 最优个体被选中的概率\n",
    "    - P_min: 最差个体被选中的概率，默认为 None，表示根据公式计算\n",
    "\n",
    "    返回:\n",
    "    - 选择后的种群\n",
    "    \"\"\"\n",
    "    if P_min is None:\n",
    "        P_min = 2 * P_max - 1\n",
    "\n",
    "    N = len(fitness_scores)\n",
    "    sorted_indices = np.argsort(fitness_scores)\n",
    "    probabilities = P_min + (P_max - P_min) * (np.arange(N) / (N - 1))\n",
    "    selected_indices = np.random.choice(N, size=N, replace=True, p=probabilities / np.sum(probabilities))\n",
    "    return population[sorted_indices][selected_indices]\n",
    "\n",
    "\n",
    "# 示例使用\n",
    "population_size = 100  # 种群大小\n",
    "population = np.random.rand(population_size, 1) * 10  # 初始种群\n",
    "fitness_scores = np.random.rand(population_size)  # 替换为实际问题中的适应度分数\n",
    "\n",
    "# 使用线性排序选择函数\n",
    "selected_population = linear_ranking_selection(population, fitness_scores, P_max=0.8)\n"
   ],
   "metadata": {
    "collapsed": false
   },
   "id": "d86d5026f43aca1a"
  },
  {
   "cell_type": "code",
   "outputs": [],
   "source": [
    "import numpy as np\n",
    "\n",
    "def exponential_ranking_selection(population, fitness_scores, c=0.99):\n",
    "    \"\"\"\n",
    "    遗传算法2：指数排序选择\n",
    "\n",
    "    参数:\n",
    "    - population: 种群\n",
    "    - fitness_scores: 适应度分数\n",
    "    - c: 底数，满足 0 < c < 1\n",
    "\n",
    "    返回:\n",
    "    - 选择后的种群\n",
    "    \"\"\"\n",
    "    sorted_indices = np.argsort(fitness_scores)\n",
    "    sorted_population = population[sorted_indices]\n",
    "    N = len(fitness_scores)\n",
    "    \n",
    "    probabilities = [c**(N-i) for i in range(1, N+1)]\n",
    "    probabilities /= np.sum(probabilities)  # 归一化概率\n",
    "\n",
    "    selected_indices = np.random.choice(N, size=N, replace=True, p=probabilities)\n",
    "    return sorted_population[selected_indices]\n",
    "\n",
    "# 示例使用\n",
    "population_size = 100  # 种群大小\n",
    "fitness_scores = np.random.rand(population_size)  # 替换为实际问题中的适应度分数\n",
    "\n",
    "# 使用指数排序选择函数\n",
    "selected_population = exponential_ranking_selection(population, fitness_scores, c=0.95)\n"
   ],
   "metadata": {
    "collapsed": false
   },
   "id": "2c56014625619a56"
  },
  {
   "cell_type": "code",
   "outputs": [],
   "source": [
    "population_size = 100  # 种群大小\n",
    "chromosome_length = 1  # 个体长度，示例中为单变量优化\n",
    "generations = 50  # 代数\n",
    "population = np.random.rand(population_size, chromosome_length) * 10  # 初始种群\n",
    "\n",
    "for generation in range(generations):\n",
    "    # 评估适应度\n",
    "    fitness_scores = objective_function(population[:, 0])\n",
    "    # 归一化适应度评分\n",
    "    norm_fitness_scores = normalize(fitness_scores)\n",
    "    # 选择（这里使用线性排名选择，你可以切换到指数排序选择尝试）\n",
    "    selected_population = linear_ranking_selection(population, norm_fitness_scores)\n",
    "    # 此处省略了交叉和变异的步骤，这需要根据你的问题具体实现\n",
    "    # 更新种群\n",
    "    population = selected_population\n",
    "\n",
    "    print(f\"Generation {generation}: Best Score = {np.max(fitness_scores)}\")"
   ],
   "metadata": {
    "collapsed": false
   },
   "id": "cc130f4585f2b14"
  }
 ],
 "metadata": {
  "kernelspec": {
   "display_name": "Python 3",
   "language": "python",
   "name": "python3"
  },
  "language_info": {
   "codemirror_mode": {
    "name": "ipython",
    "version": 2
   },
   "file_extension": ".py",
   "mimetype": "text/x-python",
   "name": "python",
   "nbconvert_exporter": "python",
   "pygments_lexer": "ipython2",
   "version": "2.7.6"
  }
 },
 "nbformat": 4,
 "nbformat_minor": 5
}
