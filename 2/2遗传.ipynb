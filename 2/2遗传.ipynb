{
 "cells": [
  {
   "cell_type": "code",
   "outputs": [],
   "source": [
    "import numpy as np\n",
    "\n",
    "def objective_function(t, N, K, r, t0):\n",
    "    part1 = r * t * (N - (N / K) * t) + 1 / (1 + np.exp(-r * (t - t0)))\n",
    "    return part1\n"
   ],
   "metadata": {
    "collapsed": false,
    "ExecuteTime": {
     "end_time": "2024-02-03T15:35:49.138817600Z",
     "start_time": "2024-02-03T15:35:49.128305900Z"
    }
   },
   "id": "969f885230db7c39",
   "execution_count": 30
  },
  {
   "cell_type": "code",
   "outputs": [],
   "source": [
    "def normalize(value, min_val, max_val):\n",
    "    return (value - min_val) / (max_val - min_val)"
   ],
   "metadata": {
    "collapsed": false,
    "ExecuteTime": {
     "end_time": "2024-02-03T15:35:49.138817600Z",
     "start_time": "2024-02-03T15:35:49.131883900Z"
    }
   },
   "id": "843dd610e6f8f8d",
   "execution_count": 31
  },
  {
   "cell_type": "code",
   "outputs": [],
   "source": [
    "from random import random\n",
    "from itertools import accumulate\n",
    "from bisect import bisect_right\n",
    "from gaft.plugin_interfaces.operators.selection import Selection\n",
    "\n",
    "class LinearRankingSelection(Selection):\n",
    "    def __init__(self, pmin=0.1, pmax=0.9):\n",
    "        '''\n",
    "        LinearRankingSelection 类，使用线性排名选择方法的选择算子。\n",
    "        参考文献: Baker J E. 自适应遗传算法选择方法[C]//遗传算法及其应用国际会议论文集. 1985: 101-111。\n",
    "        '''\n",
    "        # 最差和最优个体的选择概率。\n",
    "        self.pmin, self.pmax = pmin, pmax\n",
    "\n",
    "    def select(self, population, fitness):\n",
    "        '''\n",
    "        使用线性排名方法选择一对父代个体。\n",
    "        '''\n",
    "        # 个体数量。\n",
    "        NP = len(population)\n",
    "        # 给所有个体按适应度降序排列，并为其分配排名。\n",
    "        sorted_indvs = sorted(population.individuals, key=fitness, reverse=True)\n",
    "        # 线性分配选择概率。\n",
    "        # 注意: 这里排名 i 属于 {1, ..., N}\n",
    "        p = lambda i: (self.pmin + (self.pmax - self.pmin)*(i-1)/(NP-1))\n",
    "        probabilities = [self.pmin] + [p(i) for i in range(2, NP)] + [self.pmax]\n",
    "        # 归一化概率。\n",
    "        psum = sum(probabilities)\n",
    "        wheel = list(accumulate([p/psum for p in probabilities]))\n",
    "        # 选择父代。\n",
    "        father_idx = bisect_right(wheel, random())\n",
    "        father = population[father_idx]\n",
    "        mother_idx = (father_idx + 1) % len(wheel)\n",
    "        mother = population[mother_idx]\n",
    "        return father, mother\n"
   ],
   "metadata": {
    "collapsed": false,
    "ExecuteTime": {
     "end_time": "2024-02-03T15:35:49.166864600Z",
     "start_time": "2024-02-03T15:35:49.138817600Z"
    }
   },
   "id": "9df8cf2226e772d9",
   "execution_count": 32
  },
  {
   "cell_type": "code",
   "outputs": [
    {
     "ename": "ImportError",
     "evalue": "cannot import name 'Population' from 'gaft' (/home/cr9294/.virtualenvs/PIXIU/lib/python3.10/site-packages/gaft/__init__.py)",
     "output_type": "error",
     "traceback": [
      "\u001B[0;31m---------------------------------------------------------------------------\u001B[0m",
      "\u001B[0;31mImportError\u001B[0m                               Traceback (most recent call last)",
      "Cell \u001B[0;32mIn[33], line 3\u001B[0m\n\u001B[1;32m      1\u001B[0m \u001B[38;5;28;01mfrom\u001B[39;00m \u001B[38;5;21;01mgaft\u001B[39;00m \u001B[38;5;28;01mimport\u001B[39;00m GAEngine\n\u001B[1;32m      2\u001B[0m \u001B[38;5;28;01mfrom\u001B[39;00m \u001B[38;5;21;01mgaft\u001B[39;00m\u001B[38;5;21;01m.\u001B[39;00m\u001B[38;5;21;01mcomponents\u001B[39;00m \u001B[38;5;28;01mimport\u001B[39;00m DecimalIndividual\n\u001B[0;32m----> 3\u001B[0m \u001B[38;5;28;01mfrom\u001B[39;00m \u001B[38;5;21;01mgaft\u001B[39;00m \u001B[38;5;28;01mimport\u001B[39;00m Population\n\u001B[1;32m      4\u001B[0m \u001B[38;5;28;01mfrom\u001B[39;00m \u001B[38;5;21;01mgaft\u001B[39;00m\u001B[38;5;21;01m.\u001B[39;00m\u001B[38;5;21;01moperators\u001B[39;00m \u001B[38;5;28;01mimport\u001B[39;00m RouletteWheelSelection, UniformCrossover, FlipBitMutation\n\u001B[1;32m      6\u001B[0m \u001B[38;5;66;03m# Create a DecimalIndividual template\u001B[39;00m\n",
      "\u001B[0;31mImportError\u001B[0m: cannot import name 'Population' from 'gaft' (/home/cr9294/.virtualenvs/PIXIU/lib/python3.10/site-packages/gaft/__init__.py)"
     ]
    }
   ],
   "source": [
    "from gaft import GAEngine\n",
    "from gaft.components import DecimalIndividual\n",
    "from gaft import Population\n",
    "from gaft.operators import RouletteWheelSelection, UniformCrossover, FlipBitMutation\n",
    "\n",
    "# Create a DecimalIndividual template\n",
    "indv_template = DecimalIndividual(ranges=[(lower_bound, upper_bound)], eps=1e-2)\n",
    "\n",
    "# Create a Population object with the individual template\n",
    "population = Population(indv_template=indv_template)\n",
    "\n",
    "# Create genetic algorithm engine with required components\n",
    "ga = GAEngine(\n",
    "    population=population,\n",
    "    selection=RouletteWheelSelection,\n",
    "    crossover=UniformCrossover,\n",
    "    mutation=FlipBitMutation\n",
    ")\n",
    "\n",
    "# Set up the parameters\n",
    "ga.population.size = 50\n",
    "\n",
    "# Set up the fitness function using the normalized objective function\n",
    "@ga.fitness_register\n",
    "def fitness(indv):\n",
    "    t = indv.solution[0]\n",
    "    normalized_fitness = normalize(objective_function(t, N, K, r, t0), min_val, max_val)\n",
    "    return normalized_fitness\n",
    "\n",
    "# Run the genetic algorithm\n",
    "ga.run(generation=100)\n",
    "best_individual = ga.output.get()\n",
    "\n",
    "# Access the best individual's solution\n",
    "best_solution = best_individual.solution\n"
   ],
   "metadata": {
    "collapsed": false,
    "ExecuteTime": {
     "end_time": "2024-02-03T15:35:49.167863400Z",
     "start_time": "2024-02-03T15:35:49.147864500Z"
    }
   },
   "id": "c4cb41ed88f6783c",
   "execution_count": 33
  },
  {
   "cell_type": "code",
   "outputs": [],
   "source": [
    "from random import random\n",
    "from itertools import accumulate\n",
    "from bisect import bisect_right\n",
    "from gaft.plugin_interfaces.operators.selection import Selection\n",
    "\n",
    "class ExponentialRankingSelection(Selection): \n",
    "    def __init__(self, base=0.5):\n",
    "        '''\n",
    "        ExponentialRankingSelection 类，使用指数排名选择方法的选择算子。\n",
    "        :param base: 指数的底\n",
    "        :type base: float 在范围 (0.0, 1.0) 内\n",
    "        '''\n",
    "        if not (0.0 < base < 1.0):\n",
    "            raise ValueError('指数的底 base 必须在范围 (0.0, 1.0) 内')\n",
    "        self.base = base\n",
    "\n",
    "    def select(self, population, fitness):\n",
    "        '''\n",
    "        使用指数排名方法选择一对父代个体。\n",
    "        '''\n",
    "        # 个体数量。\n",
    "        NP = len(population)\n",
    "        # 注意: 这里排名 i 属于 {1, ..., N}\n",
    "        p = lambda i: self.base**(NP - i)\n",
    "        probabilities = [p(i) for i in range(1, NP + 1)]\n",
    "        # 归一化概率。\n",
    "        psum = sum(probabilities)\n",
    "        wheel = list(accumulate([p/psum for p in probabilities]))\n",
    "        # 选择父代。\n",
    "        father_idx = bisect_right(wheel, random())\n",
    "        father = population[father_idx]\n",
    "        mother_idx = (father_idx + 1) % len(wheel)\n",
    "        mother = population[mother_idx]\n",
    "        return father, mother\n"
   ],
   "metadata": {
    "collapsed": false,
    "ExecuteTime": {
     "start_time": "2024-02-03T15:35:49.160344600Z"
    }
   },
   "id": "56cf28d8777edc1c",
   "execution_count": null
  }
 ],
 "metadata": {
  "kernelspec": {
   "name": "d2l",
   "language": "python",
   "display_name": "d2l"
  },
  "language_info": {
   "codemirror_mode": {
    "name": "ipython",
    "version": 2
   },
   "file_extension": ".py",
   "mimetype": "text/x-python",
   "name": "python",
   "nbconvert_exporter": "python",
   "pygments_lexer": "ipython2",
   "version": "2.7.6"
  }
 },
 "nbformat": 4,
 "nbformat_minor": 5
}
