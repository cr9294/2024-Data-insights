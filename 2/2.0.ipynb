{
 "cells": [
  {
   "cell_type": "code",
   "execution_count": 1,
   "id": "initial_id",
   "metadata": {
    "collapsed": true,
    "ExecuteTime": {
     "end_time": "2024-02-03T16:56:39.131346400Z",
     "start_time": "2024-02-03T16:56:38.915296100Z"
    }
   },
   "outputs": [
    {
     "ename": "NameError",
     "evalue": "name 'engine' is not defined",
     "output_type": "error",
     "traceback": [
      "\u001B[0;31m---------------------------------------------------------------------------\u001B[0m",
      "\u001B[0;31mNameError\u001B[0m                                 Traceback (most recent call last)",
      "Cell \u001B[0;32mIn[1], line 45\u001B[0m\n\u001B[1;32m     42\u001B[0m toolbox\u001B[38;5;241m.\u001B[39mregister(\u001B[38;5;124m\"\u001B[39m\u001B[38;5;124mselect\u001B[39m\u001B[38;5;124m\"\u001B[39m, tools\u001B[38;5;241m.\u001B[39mselTournament, tournsize\u001B[38;5;241m=\u001B[39m\u001B[38;5;241m3\u001B[39m)\n\u001B[1;32m     44\u001B[0m \u001B[38;5;66;03m# 修改 ConsoleOutput 类\u001B[39;00m\n\u001B[0;32m---> 45\u001B[0m \u001B[38;5;129m@engine\u001B[39m\u001B[38;5;241m.\u001B[39manalysis_register\n\u001B[1;32m     46\u001B[0m \u001B[38;5;28;01mclass\u001B[39;00m \u001B[38;5;21;01mConsoleOutput\u001B[39;00m(OnTheFlyAnalysis):\n\u001B[1;32m     47\u001B[0m     master_only \u001B[38;5;241m=\u001B[39m \u001B[38;5;28;01mTrue\u001B[39;00m\n\u001B[1;32m     48\u001B[0m     interval \u001B[38;5;241m=\u001B[39m \u001B[38;5;241m1\u001B[39m\n",
      "\u001B[0;31mNameError\u001B[0m: name 'engine' is not defined"
     ]
    }
   ],
   "source": [
    "import numpy as np\n",
    "from deap import base, creator, tools, algorithms\n",
    "\n",
    "# 定义目标函数\n",
    "def objective_function(t, r, N, K, t0):\n",
    "    term1 = r * t * N * (t - (N / K) * t)\n",
    "    term2 = 1 / (1 + np.exp(-r * (t - t0)))\n",
    "    return term1 + term2\n",
    "\n",
    "# 定义适应度函数\n",
    "def fitness_function(individual):\n",
    "    t = individual[0]\n",
    "    r = individual[1]\n",
    "    N = individual[2]\n",
    "    K = individual[3]\n",
    "    t0 = individual[4]\n",
    "    \n",
    "    # 替换为实际的最小值和最大值\n",
    "    min_val = 0\n",
    "    max_val = 100\n",
    "    \n",
    "    # 计算原始目标函数值\n",
    "    original_value = objective_function(t, r, N, K, t0)\n",
    "    \n",
    "    # 对目标函数值进行归一化处理\n",
    "    normalized_value = (original_value - min_val) / (max_val - min_val)\n",
    "    \n",
    "    return normalized_value\n",
    "\n",
    "# 遗传算法初始化\n",
    "creator.create(\"FitnessMax\", base.Fitness, weights=(1.0,))\n",
    "creator.create(\"Individual\", list, fitness=creator.FitnessMax)\n",
    "\n",
    "toolbox = base.Toolbox()\n",
    "toolbox.register(\"attr_float\", np.random.uniform, 0, 100)\n",
    "toolbox.register(\"individual\", tools.initRepeat, creator.Individual, toolbox.attr_float, n=5)\n",
    "toolbox.register(\"population\", tools.initRepeat, list, toolbox.individual)\n",
    "\n",
    "toolbox.register(\"evaluate\", fitness_function)\n",
    "toolbox.register(\"mate\", tools.cxBlend, alpha=0.5)\n",
    "toolbox.register(\"mutate\", tools.mutGaussian, mu=0, sigma=1, indpb=0.2)\n",
    "toolbox.register(\"select\", tools.selTournament, tournsize=3)\n",
    "\n",
    "# 修改 ConsoleOutput 类\n",
    "@engine.analysis_register\n",
    "class ConsoleOutput(OnTheFlyAnalysis):\n",
    "    master_only = True\n",
    "    interval = 1\n",
    "    \n",
    "    def register_step(self, g, population, engine):\n",
    "        # 从种群中获取最佳个体\n",
    "        best_indv = tools.selBest(population, 1)[0]\n",
    "        \n",
    "        # 输出最佳适应度和个体信息\n",
    "        msg = 'Generation: {}, best fitness: {:.3f}, Best Individual: {}'.format(g, best_indv.fitness.values[0], best_indv)\n",
    "        engine.logger.info(msg)\n",
    "\n",
    "# 运行遗传算法\n",
    "pop = toolbox.population(n=100)\n",
    "hof = tools.HallOfFame(1)\n",
    "stats = tools.Statistics(lambda ind: ind.fitness.values)\n",
    "stats.register(\"avg\", np.mean)\n",
    "stats.register(\"std\", np.std)\n",
    "stats.register(\"min\", np.min)\n",
    "stats.register(\"max\", np.max)\n",
    "\n",
    "engine = algorithms.eaMuPlusLambda(pop, toolbox, mu=100, lambda_=200, cxpb=0.7, mutpb=0.2, ngen=100, stats=stats, halloffame=hof, verbose=True)\n",
    "engine.run()\n",
    "\n",
    "# 输出最终结果\n",
    "best_indv = tools.selBest(population, 1)[0]\n",
    "final_fitness = best_indv.fitness.values[0]\n",
    "print(\"Final Best Fitness:\", final_fitness)\n",
    "print(\"Final Best Individual:\", best_indv)\n"
   ]
  }
 ],
 "metadata": {
  "kernelspec": {
   "name": "d2l",
   "language": "python",
   "display_name": "d2l"
  },
  "language_info": {
   "codemirror_mode": {
    "name": "ipython",
    "version": 2
   },
   "file_extension": ".py",
   "mimetype": "text/x-python",
   "name": "python",
   "nbconvert_exporter": "python",
   "pygments_lexer": "ipython2",
   "version": "2.7.6"
  }
 },
 "nbformat": 4,
 "nbformat_minor": 5
}
