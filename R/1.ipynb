{
 "cells": [
  {
   "cell_type": "code",
   "outputs": [
    {
     "name": "stdout",
     "output_type": "stream",
     "text": [
      "  Location.Name Location    Type  Years  Males\n",
      "0    Bear River        1  Lentic      3      1\n",
      "1    Bear River        1  Lentic      3      1\n",
      "2    Bear River        1  Lentic      3      1\n",
      "3    Bear River        1  Lentic      3      1\n",
      "4    Bear River        1  Lentic      5      1\n",
      "[['Bear River' 1 'Lentic' 3 1]\n",
      " ['Bear River' 1 'Lentic' 3 1]\n",
      " ['Bear River' 1 'Lentic' 3 1]\n",
      " ...\n",
      " ['White River' 8 'River' 1 1]\n",
      " ['White River' 8 'River' 1 1]\n",
      " ['White River' 8 'River' 1 0]]\n",
      "{'Years': array([3, 3, 3, 3, 5, 4, 4, 4, 3, 3, 3, 5, 2, 3, 3, 3, 3, 2, 2, 3, 3, 3,\n",
      "       2, 3, 5, 2, 3, 3, 3, 3, 1, 4, 5, 4, 4, 4, 4, 3, 4, 4, 4, 4, 5, 4,\n",
      "       4, 4, 2, 2, 4, 4, 2, 3, 2, 4, 2, 3, 5, 2, 3, 2, 2, 2, 2, 3, 3, 2,\n",
      "       2, 2, 3, 2, 3, 2, 2, 3, 2, 2, 3, 3, 2, 2, 2, 2, 2, 2, 3, 2, 2, 2,\n",
      "       2, 2, 3, 2, 2, 2, 2, 1, 2, 2, 1, 1, 2, 2, 1, 0, 0, 0, 0, 4, 3, 3,\n",
      "       5, 3, 4, 4, 4, 3, 4, 4, 3, 3, 3, 5, 3, 2, 3, 4, 3, 3, 3, 3, 2, 3,\n",
      "       2, 3, 3, 3, 3, 2, 2, 4, 2, 2, 3, 2, 2, 2, 3, 2, 3, 3, 3, 2, 2, 3,\n",
      "       2, 4, 2, 2, 2, 3, 2, 2, 3, 3, 2, 2, 2, 2, 3, 1, 1, 3, 4, 4, 2, 2,\n",
      "       2, 3, 3, 3, 3, 3, 3, 3, 3, 3, 3, 3, 4, 4, 1, 2, 2, 3, 3, 3, 3, 2,\n",
      "       2, 2, 2, 2, 2, 2, 2, 2, 2, 2, 2, 2, 2, 2, 2, 2, 2, 2, 2, 2, 2, 2,\n",
      "       2, 2, 2, 1, 1, 1, 1, 2, 2, 2, 2, 2, 2, 2, 2, 2, 2, 2, 2, 2, 2, 2,\n",
      "       1, 2, 2, 1, 2, 2, 1, 1, 1, 1, 2, 1, 1, 1, 2, 1, 1, 1, 2, 1, 1, 1,\n",
      "       1, 2, 2, 2, 2, 2, 2, 2, 2, 2, 2, 2, 2, 2, 2, 2, 2, 1, 1, 1, 1, 1,\n",
      "       2, 2, 2, 2, 2, 2, 2, 2, 2, 2, 1, 1, 1, 1, 1, 2, 1, 2, 1, 2, 1, 0,\n",
      "       0, 1, 1, 0, 0, 0, 0, 0, 0, 0, 0, 3, 3, 3, 3, 3, 3, 3, 3, 2, 3, 3,\n",
      "       3, 2, 2, 3, 1, 2, 2, 2, 2, 3, 2, 2, 0, 2, 2, 2, 2, 1, 2, 2, 1, 1,\n",
      "       2, 2, 1, 1, 1, 1, 1, 2, 1, 1, 1, 1, 1, 1, 1, 1, 1, 1, 2, 1, 1, 1,\n",
      "       1, 1, 1, 1, 1]), 'males': array([1, 1, 1, 1, 1, 0, 1, 1, 1, 1, 0, 1, 1, 1, 0, 1, 1, 1, 1, 1, 1, 1,\n",
      "       1, 1, 1, 1, 1, 1, 1, 0, 0, 1, 0, 0, 0, 0, 0, 1, 1, 1, 1, 1, 0, 0,\n",
      "       0, 1, 1, 1, 1, 0, 1, 1, 1, 1, 1, 0, 1, 1, 1, 1, 0, 1, 0, 1, 1, 1,\n",
      "       1, 1, 1, 1, 1, 1, 1, 1, 1, 1, 0, 1, 1, 1, 1, 1, 1, 1, 1, 0, 1, 1,\n",
      "       1, 0, 1, 1, 1, 1, 1, 1, 1, 0, 1, 1, 0, 0, 0, 1, 0, 1, 0, 0, 1, 1,\n",
      "       1, 0, 1, 1, 1, 1, 0, 1, 1, 1, 1, 1, 1, 1, 1, 1, 1, 0, 1, 1, 1, 1,\n",
      "       1, 0, 1, 1, 1, 1, 1, 1, 1, 1, 1, 1, 1, 1, 1, 1, 1, 1, 1, 1, 1, 1,\n",
      "       1, 1, 1, 1, 1, 1, 0, 1, 1, 0, 1, 1, 1, 0, 1, 0, 0, 0, 0, 0, 1, 1,\n",
      "       1, 1, 1, 1, 1, 1, 1, 1, 1, 1, 1, 1, 1, 1, 0, 0, 0, 0, 0, 0, 0, 1,\n",
      "       1, 1, 1, 1, 1, 1, 1, 1, 1, 1, 0, 0, 0, 0, 0, 0, 0, 0, 0, 0, 0, 0,\n",
      "       0, 0, 0, 1, 1, 1, 1, 1, 1, 1, 1, 1, 1, 1, 1, 1, 1, 1, 1, 1, 1, 1,\n",
      "       0, 1, 1, 1, 0, 0, 1, 1, 0, 1, 0, 0, 1, 1, 1, 1, 1, 1, 1, 0, 1, 0,\n",
      "       1, 1, 1, 0, 0, 1, 1, 1, 1, 1, 1, 1, 1, 1, 0, 0, 0, 1, 1, 1, 1, 1,\n",
      "       1, 1, 1, 1, 1, 1, 1, 1, 1, 1, 0, 1, 1, 1, 1, 0, 0, 1, 0, 1, 1, 0,\n",
      "       1, 1, 1, 1, 1, 1, 1, 1, 1, 1, 0, 0, 0, 0, 0, 0, 0, 0, 0, 1, 1, 1,\n",
      "       1, 1, 1, 0, 1, 1, 1, 1, 1, 1, 0, 0, 1, 0, 0, 1, 1, 1, 1, 0, 1, 1,\n",
      "       1, 0, 1, 0, 0, 0, 0, 0, 1, 1, 0, 1, 1, 1, 1, 1, 1, 1, 1, 0, 0, 0,\n",
      "       1, 0, 1, 1, 0]), 'streams': array([0, 0, 0, 0, 0, 0, 0, 0, 0, 0, 0, 0, 0, 0, 0, 0, 0, 0, 0, 0, 0, 0,\n",
      "       0, 0, 0, 0, 0, 0, 0, 0, 0, 1, 1, 1, 1, 1, 1, 1, 1, 1, 1, 1, 1, 1,\n",
      "       1, 1, 1, 1, 1, 1, 1, 1, 1, 1, 1, 1, 1, 1, 1, 1, 1, 1, 1, 1, 1, 1,\n",
      "       1, 1, 1, 1, 1, 1, 1, 1, 1, 1, 1, 1, 1, 1, 1, 1, 1, 1, 1, 1, 1, 1,\n",
      "       1, 1, 1, 1, 1, 1, 1, 1, 1, 1, 1, 1, 1, 1, 1, 1, 1, 1, 1, 2, 2, 2,\n",
      "       2, 2, 2, 2, 2, 2, 2, 2, 2, 2, 2, 2, 2, 2, 2, 2, 2, 2, 2, 2, 2, 2,\n",
      "       2, 2, 2, 2, 2, 2, 2, 2, 2, 2, 2, 2, 2, 2, 2, 2, 2, 2, 2, 2, 2, 2,\n",
      "       2, 2, 2, 2, 2, 2, 2, 2, 2, 2, 2, 2, 2, 2, 2, 2, 2, 3, 3, 3, 3, 3,\n",
      "       3, 3, 3, 3, 3, 3, 3, 3, 3, 3, 3, 3, 3, 3, 3, 3, 3, 3, 3, 3, 3, 3,\n",
      "       3, 3, 3, 3, 3, 3, 3, 3, 3, 3, 3, 3, 3, 3, 3, 3, 3, 3, 3, 3, 3, 3,\n",
      "       3, 3, 3, 3, 3, 3, 3, 3, 3, 3, 3, 3, 3, 3, 3, 3, 3, 3, 3, 3, 3, 3,\n",
      "       3, 3, 3, 3, 3, 3, 3, 3, 3, 3, 3, 3, 3, 3, 3, 3, 3, 3, 3, 3, 3, 3,\n",
      "       3, 4, 4, 4, 4, 4, 4, 4, 4, 4, 4, 4, 4, 4, 4, 4, 4, 4, 4, 4, 4, 4,\n",
      "       4, 4, 4, 4, 4, 4, 4, 4, 4, 4, 4, 4, 4, 4, 4, 4, 4, 4, 4, 4, 4, 4,\n",
      "       4, 4, 4, 4, 4, 4, 4, 4, 4, 4, 4, 5, 5, 5, 5, 5, 5, 5, 5, 5, 5, 5,\n",
      "       5, 5, 5, 5, 5, 5, 5, 5, 5, 5, 5, 5, 5, 6, 6, 6, 6, 6, 6, 6, 6, 6,\n",
      "       6, 6, 7, 7, 7, 7, 7, 7, 7, 7, 7, 7, 7, 7, 7, 7, 7, 7, 7, 7, 7, 7,\n",
      "       7, 7, 7, 7, 7], dtype=int8), 'N': 379}\n"
     ]
    }
   ],
   "source": [
    "import pymc3 as pm\n",
    "import pandas as pd\n",
    "import numpy as np\n",
    "import arviz as az\n",
    "import theano.tensor as tt\n",
    "\n",
    "# 读取数据\n",
    "ratio = pd.read_csv(\"data.csv\")\n",
    "\n",
    "# 将Location转换为分类变量\n",
    "ratio['Location'] = ratio['Location'].astype('category')\n",
    "print(ratio.head())\n",
    "# 为PyMC3准备数据\n",
    "coords = {\"location\": ratio.Location.cat.categories, \"observation_idx\": np.arange(ratio.shape[0])}\n",
    "print(ratio.values)\n",
    "data = {\n",
    "    \"Years\": ratio.Years.values,\n",
    "    \"males\": ratio.Males.values,\n",
    "    \"streams\": ratio.Location.cat.codes.values,\n",
    "    \"N\": ratio.shape[0]\n",
    "}\n",
    "print(data)"
   ],
   "metadata": {
    "collapsed": false,
    "ExecuteTime": {
     "end_time": "2024-02-02T03:45:48.884219Z",
     "start_time": "2024-02-02T03:45:48.837577800Z"
    }
   },
   "id": "560ad38c5d5abb61",
   "execution_count": 6
  },
  {
   "cell_type": "code",
   "outputs": [
    {
     "name": "stdout",
     "output_type": "stream",
     "text": [
      "[0.5 0.5 0.5 0.5 0.5 0.5 0.5 0.5 0.5 0.5 0.5 0.5 0.5 0.5 0.5 0.5 0.5 0.5\n",
      " 0.5 0.5 0.5 0.5 0.5 0.5 0.5 0.5 0.5 0.5 0.5 0.5 0.5 0.5 0.5 0.5 0.5 0.5\n",
      " 0.5 0.5 0.5 0.5 0.5 0.5 0.5 0.5 0.5 0.5 0.5 0.5 0.5 0.5 0.5 0.5 0.5 0.5\n",
      " 0.5 0.5 0.5 0.5 0.5 0.5 0.5 0.5 0.5 0.5 0.5 0.5 0.5 0.5 0.5 0.5 0.5 0.5\n",
      " 0.5 0.5 0.5 0.5 0.5 0.5 0.5 0.5 0.5 0.5 0.5 0.5 0.5 0.5 0.5 0.5 0.5 0.5\n",
      " 0.5 0.5 0.5 0.5 0.5 0.5 0.5 0.5 0.5 0.5 0.5 0.5 0.5 0.5 0.5 0.5 0.5 0.5\n",
      " 0.5 0.5 0.5 0.5 0.5 0.5 0.5 0.5 0.5 0.5 0.5 0.5 0.5 0.5 0.5 0.5 0.5 0.5\n",
      " 0.5 0.5 0.5 0.5 0.5 0.5 0.5 0.5 0.5 0.5 0.5 0.5 0.5 0.5 0.5 0.5 0.5 0.5\n",
      " 0.5 0.5 0.5 0.5 0.5 0.5 0.5 0.5 0.5 0.5 0.5 0.5 0.5 0.5 0.5 0.5 0.5 0.5\n",
      " 0.5 0.5 0.5 0.5 0.5 0.5 0.5 0.5 0.5 0.5 0.5 0.5 0.5 0.5 0.5 0.5 0.5 0.5\n",
      " 0.5 0.5 0.5 0.5 0.5 0.5 0.5 0.5 0.5 0.5 0.5 0.5 0.5 0.5 0.5 0.5 0.5 0.5\n",
      " 0.5 0.5 0.5 0.5 0.5 0.5 0.5 0.5 0.5 0.5 0.5 0.5 0.5 0.5 0.5 0.5 0.5 0.5\n",
      " 0.5 0.5 0.5 0.5 0.5 0.5 0.5 0.5 0.5 0.5 0.5 0.5 0.5 0.5 0.5 0.5 0.5 0.5\n",
      " 0.5 0.5 0.5 0.5 0.5 0.5 0.5 0.5 0.5 0.5 0.5 0.5 0.5 0.5 0.5 0.5 0.5 0.5\n",
      " 0.5 0.5 0.5 0.5 0.5 0.5 0.5 0.5 0.5 0.5 0.5 0.5 0.5 0.5 0.5 0.5 0.5 0.5\n",
      " 0.5 0.5 0.5 0.5 0.5 0.5 0.5 0.5 0.5 0.5 0.5 0.5 0.5 0.5 0.5 0.5 0.5 0.5\n",
      " 0.5 0.5 0.5 0.5 0.5 0.5 0.5 0.5 0.5 0.5 0.5 0.5 0.5 0.5 0.5 0.5 0.5 0.5\n",
      " 0.5 0.5 0.5 0.5 0.5 0.5 0.5 0.5 0.5 0.5 0.5 0.5 0.5 0.5 0.5 0.5 0.5 0.5\n",
      " 0.5 0.5 0.5 0.5 0.5 0.5 0.5 0.5 0.5 0.5 0.5 0.5 0.5 0.5 0.5 0.5 0.5 0.5\n",
      " 0.5 0.5 0.5 0.5 0.5 0.5 0.5 0.5 0.5 0.5 0.5 0.5 0.5 0.5 0.5 0.5 0.5 0.5\n",
      " 0.5 0.5 0.5 0.5 0.5 0.5 0.5 0.5 0.5 0.5 0.5 0.5 0.5 0.5 0.5 0.5 0.5 0.5\n",
      " 0.5]\n"
     ]
    },
    {
     "ename": "KeyError",
     "evalue": "'observation_idx'",
     "output_type": "error",
     "traceback": [
      "\u001B[0;31m---------------------------------------------------------------------------\u001B[0m",
      "\u001B[0;31mKeyError\u001B[0m                                  Traceback (most recent call last)",
      "Cell \u001B[0;32mIn[5], line 15\u001B[0m\n\u001B[1;32m     13\u001B[0m \u001B[38;5;28mprint\u001B[39m(p\u001B[38;5;241m.\u001B[39mtag\u001B[38;5;241m.\u001B[39mtest_value)\n\u001B[1;32m     14\u001B[0m \u001B[38;5;66;03m# 观测的似然性分布\u001B[39;00m\n\u001B[0;32m---> 15\u001B[0m males_obs \u001B[38;5;241m=\u001B[39m pm\u001B[38;5;241m.\u001B[39mBernoulli(\u001B[38;5;124m'\u001B[39m\u001B[38;5;124mmales_obs\u001B[39m\u001B[38;5;124m'\u001B[39m, p\u001B[38;5;241m=\u001B[39mp[\u001B[43mdata\u001B[49m\u001B[43m[\u001B[49m\u001B[38;5;124;43m'\u001B[39;49m\u001B[38;5;124;43mobservation_idx\u001B[39;49m\u001B[38;5;124;43m'\u001B[39;49m\u001B[43m]\u001B[49m], observed\u001B[38;5;241m=\u001B[39mdata[\u001B[38;5;124m'\u001B[39m\u001B[38;5;124mmales\u001B[39m\u001B[38;5;124m'\u001B[39m])\n\u001B[1;32m     17\u001B[0m \u001B[38;5;66;03m# 推断：使用NUTS采样抽取2000个后验样本\u001B[39;00m\n\u001B[1;32m     18\u001B[0m trace \u001B[38;5;241m=\u001B[39m pm\u001B[38;5;241m.\u001B[39msample(draws\u001B[38;5;241m=\u001B[39m\u001B[38;5;241m2000\u001B[39m, tune\u001B[38;5;241m=\u001B[39m\u001B[38;5;241m1000\u001B[39m, chains\u001B[38;5;241m=\u001B[39m\u001B[38;5;241m3\u001B[39m, target_accept\u001B[38;5;241m=\u001B[39m\u001B[38;5;241m0.95\u001B[39m)\n",
      "\u001B[0;31mKeyError\u001B[0m: 'observation_idx'"
     ]
    }
   ],
   "source": [
    "# 模型\n",
    "with pm.Model(coords=coords) as hierarchical_model:\n",
    "    # 组节点的超先验\n",
    "    a = pm.Normal('a', mu=0, sd=10)\n",
    "    b = pm.Normal('b', mu=0, sd=10)\n",
    "\n",
    "    # 个体位置截距/斜率的先验\n",
    "    a_location = pm.Normal('a_location', mu=a, sd=10, dims=\"location\")\n",
    "    b_location = pm.Normal('b_location', mu=b, sd=10, dims=\"location\")\n",
    "    p = pm.Deterministic('p',\n",
    "                         pm.math.invlogit(a_location[data['streams']] + b_location[data['streams']] * data['Years']),\n",
    "                         dims=\"observation_idx\")\n",
    "    print(p.tag.test_value)\n",
    "    # 观测的似然性分布\n",
    "    males_obs = pm.Bernoulli('males_obs', p=p[data['observation_idx']], observed=data['males'])\n",
    "\n",
    "    # 推断：使用NUTS采样抽取2000个后验样本\n",
    "    trace = pm.sample(draws=2000, tune=1000, chains=3, target_accept=0.95)"
   ],
   "metadata": {
    "collapsed": false,
    "ExecuteTime": {
     "end_time": "2024-02-02T02:52:52.858018800Z",
     "start_time": "2024-02-02T02:52:52.756590200Z"
    }
   },
   "id": "50d8d279328d892a",
   "execution_count": 5
  },
  {
   "cell_type": "code",
   "outputs": [],
   "source": [
    "# 检查收敛性\n",
    "az.plot_trace(trace)\n",
    "az.summary(trace)\n",
    "\n",
    "# 后验预测检查\n",
    "post_pred = pm.sample_posterior_predictive(trace, model=hierarchical_model)\n",
    "\n",
    "# 计算不同年份时lentic和lotic之间的对数几率差异\n",
    "lentic_idx = ratio[ratio.Location == 'lentic'].Location.cat.codes.unique()[0]\n",
    "lotic_idx = ratio[ratio.Location == 'lotic'].Location.cat.codes.unique()[0]\n"
   ],
   "metadata": {
    "collapsed": false,
    "ExecuteTime": {
     "start_time": "2024-02-02T02:52:38.960823Z"
    }
   },
   "id": "35b94f135982e081"
  },
  {
   "cell_type": "code",
   "outputs": [],
   "source": [
    "for year in range(7):\n",
    "    lentic_log_odds = np.mean(trace['a_location'][:, lentic_idx] + trace['b_location'][:, lentic_idx] * year)\n",
    "    lotic_log_odds = np.mean(trace['a_location'][:, lotic_idx] + trace['b_location'][:, lotic_idx] * year)\n",
    "    print(f\"年份 {year}, Lentic的对数几率: {lentic_log_odds}, Lotic的对数几率: {lotic_log_odds}\")\n"
   ],
   "metadata": {
    "collapsed": false,
    "ExecuteTime": {
     "start_time": "2024-02-02T02:52:38.962824500Z"
    }
   },
   "id": "ba76e005794231b8"
  },
  {
   "cell_type": "code",
   "outputs": [],
   "source": [
    "# 计算在lentic与stream环境中男性概率较大的概率\n",
    "def calc_probability_comparison(trace, lentic_idx, lotic_idx, year):\n",
    "    lentic_log_odds = trace['a_location'][:, lentic_idx] + trace['b_location'][:, lentic_idx] * year\n",
    "    lotic_log_odds = trace['a_location'][:, lotic_idx] + trace['b_location'][:, lotic_idx] * year\n",
    "    probabilities = 1 / (1 + np.exp(-lentic_log_odds)) > 1 / (1 + np.exp(-lotic_log_odds))\n",
    "    return np.mean(probabilities)\n"
   ],
   "metadata": {
    "collapsed": false,
    "ExecuteTime": {
     "start_time": "2024-02-02T02:52:38.963328200Z"
    }
   },
   "id": "793112d04d916edd"
  },
  {
   "cell_type": "code",
   "outputs": [],
   "source": [
    "for year in range(7):\n",
    "    probability = calc_probability_comparison(trace, lentic_idx, lotic_idx, year)\n",
    "    print(f\"年份 {year}, 在Lentic中男性概率较大的概率: {probability}\")\n"
   ],
   "metadata": {
    "collapsed": false,
    "ExecuteTime": {
     "start_time": "2024-02-02T02:52:38.963328200Z"
    }
   },
   "id": "a60f37ba8f8a4366"
  }
 ],
 "metadata": {
  "kernelspec": {
   "name": "d2l",
   "language": "python",
   "display_name": "d2l"
  },
  "language_info": {
   "codemirror_mode": {
    "name": "ipython",
    "version": 2
   },
   "file_extension": ".py",
   "mimetype": "text/x-python",
   "name": "python",
   "nbconvert_exporter": "python",
   "pygments_lexer": "ipython2",
   "version": "2.7.6"
  }
 },
 "nbformat": 4,
 "nbformat_minor": 5
}
